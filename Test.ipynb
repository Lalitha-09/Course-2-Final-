{
 "cells": [
  {
   "cell_type": "markdown",
   "id": "053897aa-f621-4073-9418-d0513d9b7b5d",
   "metadata": {},
   "source": [
    "# My Jupyter Notebook on IBM Watson Studio"
   ]
  },
  {
   "cell_type": "markdown",
   "id": "8114bb30-7d93-4226-bde0-b7ddc61e3dc7",
   "metadata": {},
   "source": [
    "**V Hari Priya Subramanya Lalitha**\\\n",
    "Student"
   ]
  },
  {
   "cell_type": "code",
   "execution_count": 1,
   "id": "1a5ad9f7-a8eb-4f8d-b33a-423e9a0a5391",
   "metadata": {},
   "outputs": [
    {
     "ename": "SyntaxError",
     "evalue": "invalid syntax (1245300791.py, line 1)",
     "output_type": "error",
     "traceback": [
      "\u001b[0;36m  File \u001b[0;32m\"/tmp/ipykernel_74/1245300791.py\"\u001b[0;36m, line \u001b[0;32m1\u001b[0m\n\u001b[0;31m    *I am interested in Data Science because I love playing with data.I am very interesred in data cleaning , analyzing it and creating beautiful vizualizations through which any organization can draw meaningful insights.*\u001b[0m\n\u001b[0m        ^\u001b[0m\n\u001b[0;31mSyntaxError\u001b[0m\u001b[0;31m:\u001b[0m invalid syntax\n"
     ]
    }
   ],
   "source": [
    "*I am interested in Data Science because I love playing with data.I am very interesred in data cleaning , analyzing it and creating beautiful vizualizations through which any organization can draw meaningful insights.*"
   ]
  },
  {
   "cell_type": "code",
   "execution_count": null,
   "id": "1f939aab-0823-4ce0-93ae-eac2c88b612b",
   "metadata": {},
   "outputs": [],
   "source": []
  }
 ],
 "metadata": {
  "kernelspec": {
   "display_name": "Python",
   "language": "python",
   "name": "conda-env-python-py"
  },
  "language_info": {
   "codemirror_mode": {
    "name": "ipython",
    "version": 3
   },
   "file_extension": ".py",
   "mimetype": "text/x-python",
   "name": "python",
   "nbconvert_exporter": "python",
   "pygments_lexer": "ipython3",
   "version": "3.7.12"
  }
 },
 "nbformat": 4,
 "nbformat_minor": 5
}
