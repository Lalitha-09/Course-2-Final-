{
 "cells": [
  {
   "cell_type": "markdown",
   "id": "053897aa-f621-4073-9418-d0513d9b7b5d",
   "metadata": {},
   "source": [
    "# My Jupyter Notebook on IBM Watson Studio"
   ]
  },
  {
   "cell_type": "markdown",
   "id": "8114bb30-7d93-4226-bde0-b7ddc61e3dc7",
   "metadata": {},
   "source": [
    "**V Hari Priya Subramanya Lalitha**\\\n",
    "Student"
   ]
  },
  {
   "cell_type": "markdown",
   "id": "4c8acc7d-b87c-4522-bee1-34ea7ea4d5c0",
   "metadata": {},
   "source": [
    "*I am interested in Data Science because I love playing with data.I am very interesred in data cleaning , analyzing it and creating beautiful vizualizations through which any organization can draw meaningful insights.*"
   ]
  },
  {
   "cell_type": "markdown",
   "id": "3d991322-9640-479e-9f81-ef2ffc882982",
   "metadata": {},
   "source": [
    "### Code to add two numbers"
   ]
  },
  {
   "cell_type": "code",
   "execution_count": 9,
   "id": "80a04587-1f55-4a12-b991-8a2e9984b404",
   "metadata": {},
   "outputs": [
    {
     "name": "stdin",
     "output_type": "stream",
     "text": [
      "Enter the first number 1\n",
      "Enter the Second Number 1\n"
     ]
    },
    {
     "name": "stdout",
     "output_type": "stream",
     "text": [
      "The addition of two numbers is 2\n"
     ]
    }
   ],
   "source": [
    "a=int(input(\"Enter the first number\"))\n",
    "b=int(input(\"Enter the Second Number\"))\n",
    "c=a+b\n",
    "print(\"The addition of two numbers is\", c)"
   ]
  },
  {
   "cell_type": "code",
   "execution_count": null,
   "id": "a5721a2d-aa4f-4669-891f-39a19434ceb8",
   "metadata": {},
   "outputs": [],
   "source": []
  }
 ],
 "metadata": {
  "kernelspec": {
   "display_name": "Python",
   "language": "python",
   "name": "conda-env-python-py"
  },
  "language_info": {
   "codemirror_mode": {
    "name": "ipython",
    "version": 3
   },
   "file_extension": ".py",
   "mimetype": "text/x-python",
   "name": "python",
   "nbconvert_exporter": "python",
   "pygments_lexer": "ipython3",
   "version": "3.7.12"
  }
 },
 "nbformat": 4,
 "nbformat_minor": 5
}
